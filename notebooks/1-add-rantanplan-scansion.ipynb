{
 "cells": [
  {
   "cell_type": "markdown",
   "metadata": {},
   "source": [
    "## Import libraries"
   ]
  },
  {
   "cell_type": "code",
   "execution_count": 17,
   "metadata": {},
   "outputs": [],
   "source": [
    "import pandas as pd\n",
    "from argparse import Namespace\n",
    "from pathlib import Path\n",
    "from rantanplan.core import get_scansion"
   ]
  },
  {
   "cell_type": "markdown",
   "metadata": {},
   "source": [
    "## Helper functions"
   ]
  },
  {
   "cell_type": "code",
   "execution_count": 2,
   "metadata": {},
   "outputs": [],
   "source": [
    "def clean_text(string):\n",
    "    output = string.strip()\n",
    "    # replacements = ((\"“\", '\"'), (\"”\", '\"'), (\"//\", \"\"), (\"«\", '\"'), (\"»\",'\"'))\n",
    "    replacements = (\n",
    "      (\"“\", ''), (\"”\", ''), (\"//\", \"\"), (\"«\", ''), (\"»\", ''), (\",\", ''),\n",
    "      (\";\", ''), (\".\", ''),\n",
    "        # (\"?\", ''), (\"¿\", ''), (\"¡\", ''), (\"!\", ''), (\"-\", ' '),\n",
    "    )\n",
    "    for replacement in replacements:\n",
    "        output = output.replace(*replacement)\n",
    "    # Any sequence of two or more spaces should be converted into one space\n",
    "    #output = re.sub(r'(?is)\\s+', ' ', output)\n",
    "    output = re.sub(r'\\t+', ' ', output)\n",
    "    output = re.sub(r'\\n{2,}', '', output)\n",
    "    output = re.sub(r' {2,}', ' ', output)\n",
    "    return output.strip()"
   ]
  },
  {
   "cell_type": "code",
   "execution_count": 3,
   "metadata": {},
   "outputs": [],
   "source": [
    "def get_scansion_info(text):\n",
    "    try:\n",
    "        return get_scansion(clean_text(text), rhyme_analysis=True, pos_output=True, always_return_rhyme=True)\n",
    "    except:\n",
    "        return None"
   ]
  },
  {
   "cell_type": "markdown",
   "metadata": {},
   "source": [
    "## Args"
   ]
  },
  {
   "cell_type": "code",
   "execution_count": 28,
   "metadata": {},
   "outputs": [],
   "source": [
    "args = Namespace(\n",
    "    source_csv= Path(\"plain_lyrics_dataset.csv\"),\n",
    "    filename= \"rantanplan-plain-lyrics\",\n",
    "    save_dir = Path(\"rantanplan-data\") / \"plain-lyrics\",\n",
    "    chunksize = 10000, # number of rows by which the dataframe is to be divided\n",
    ")"
   ]
  },
  {
   "cell_type": "markdown",
   "metadata": {},
   "source": [
    "Read plain lyrics dataset file and add rantanplan scansion as a new column for each row. Then save the result in multiple  \".parquet\" files.\n",
    "\n",
    "From [docs](https://pandas.pydata.org/pandas-docs/stable/user_guide/io.html#io-parquet): Apache Parquet provides a partitioned binary columnar serialization for data frames. It is designed to make reading and writing data frames efficient, and to make sharing data across data analysis languages easy. Parquet can use a variety of compression techniques to shrink the file size as much as possible while still maintaining good read performance."
   ]
  },
  {
   "cell_type": "code",
   "execution_count": 4,
   "metadata": {},
   "outputs": [
    {
     "name": "stdout",
     "output_type": "stream",
     "text": [
      "CPU times: user 2h 23min 52s, sys: 5.3 s, total: 2h 23min 57s\n",
      "Wall time: 2h 24min\n"
     ]
    }
   ],
   "source": [
    "%%time\n",
    "with pd.read_csv(args.source_csv, chunksize=args.chunksize) as reader:\n",
    "    for index, chunk in enumerate(reader):\n",
    "        chunk[\"id\"] = pd.to_numeric(chunk[\"id\"], downcast=\"unsigned\")\n",
    "        chunk[\"author\"] = chunk[\"author\"].astype(\"category\")\n",
    "        chunk['scansion'] = [get_scansion_info(text) for text in chunk['text']]\n",
    "        chunk[['author','title', 'text', 'id', 'scansion']].to_parquet(args.folder / f\"{args.filename}-{index}.parquet\",\n",
    "                                                                       compression=\"gzip\")"
   ]
  },
  {
   "cell_type": "markdown",
   "metadata": {},
   "source": [
    "Check the size of the generated files:"
   ]
  },
  {
   "cell_type": "code",
   "execution_count": null,
   "metadata": {},
   "outputs": [],
   "source": [
    "%%bash -s \"$args.save_dir\" \n",
    "ls -lh $1"
   ]
  }
 ],
 "metadata": {
  "kernelspec": {
   "display_name": "Python 3",
   "language": "python",
   "name": "python3"
  },
  "language_info": {
   "codemirror_mode": {
    "name": "ipython",
    "version": 3
   },
   "file_extension": ".py",
   "mimetype": "text/x-python",
   "name": "python",
   "nbconvert_exporter": "python",
   "pygments_lexer": "ipython3",
   "version": "3.8.5"
  }
 },
 "nbformat": 4,
 "nbformat_minor": 4
}
