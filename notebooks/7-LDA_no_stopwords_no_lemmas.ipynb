{
 "cells": [
  {
   "cell_type": "code",
   "execution_count": 1,
   "id": "58d8cf07",
   "metadata": {},
   "outputs": [],
   "source": [
    "from gensim.corpora.dictionary import Dictionary\n",
    "from gensim.models.ldamodel import LdaModel\n",
    "from gensim.test.utils import datapath\n",
    "import pandas as pd\n",
    "import spacy\n",
    "from spacy.language import Language"
   ]
  },
  {
   "cell_type": "code",
   "execution_count": 2,
   "id": "b80c6d8c",
   "metadata": {},
   "outputs": [],
   "source": [
    "stopword_list = []"
   ]
  },
  {
   "cell_type": "code",
   "execution_count": 3,
   "id": "6af10fab",
   "metadata": {},
   "outputs": [],
   "source": [
    "with open(\"vacias.txt\", 'r') as f:\n",
    "    stopword_list = f.read().split(\"\\n\")"
   ]
  },
  {
   "cell_type": "code",
   "execution_count": 4,
   "id": "d62822ed",
   "metadata": {},
   "outputs": [],
   "source": [
    "# print(stopword_list)"
   ]
  },
  {
   "cell_type": "code",
   "execution_count": null,
   "id": "5bb02227",
   "metadata": {},
   "outputs": [],
   "source": [
    "@Language.component(\"remove_stopwords\")\n",
    "def remove_stopwords(doc):\n",
    "    doc = [token for token in doc if not token.is_stop]\n",
    "    return doc"
   ]
  },
  {
   "cell_type": "code",
   "execution_count": null,
   "id": "91397940",
   "metadata": {},
   "outputs": [],
   "source": [
    "@Language.component(\"remove_punct\")\n",
    "def remove_punct(doc):\n",
    "    doc = [token for token in doc if not token.is_punct]\n",
    "    return doc"
   ]
  },
  {
   "cell_type": "code",
   "execution_count": null,
   "id": "f8bfcd1b",
   "metadata": {},
   "outputs": [],
   "source": [
    "@Language.component(\"remove_spaces\")\n",
    "def remove_spaces(doc):\n",
    "    doc = [token for token in doc if not token.is_space]\n",
    "    return doc"
   ]
  },
  {
   "cell_type": "code",
   "execution_count": null,
   "id": "930b6823",
   "metadata": {},
   "outputs": [],
   "source": [
    "@Language.component(\"get_text\")\n",
    "def get_text(doc):\n",
    "    doc = [token.text for token in doc]\n",
    "    return doc"
   ]
  },
  {
   "cell_type": "code",
   "execution_count": null,
   "id": "c143b20b",
   "metadata": {},
   "outputs": [],
   "source": [
    "nlp = spacy.load('es_core_news_lg', exclude=[\"ner\"])"
   ]
  },
  {
   "cell_type": "code",
   "execution_count": null,
   "id": "2bd2e704",
   "metadata": {},
   "outputs": [],
   "source": [
    "print(len(nlp.Defaults.stop_words))"
   ]
  },
  {
   "cell_type": "code",
   "execution_count": null,
   "id": "4ac1507d",
   "metadata": {},
   "outputs": [],
   "source": [
    "nlp.Defaults.stop_words |= set(stopword_list)"
   ]
  },
  {
   "cell_type": "code",
   "execution_count": null,
   "id": "cd574da3",
   "metadata": {},
   "outputs": [],
   "source": [
    "for key in stopword_list:\n",
    "    nlp.vocab[key].is_stop = True"
   ]
  },
  {
   "cell_type": "code",
   "execution_count": null,
   "id": "e8bb948f",
   "metadata": {},
   "outputs": [],
   "source": [
    "print(len(nlp.Defaults.stop_words))"
   ]
  },
  {
   "cell_type": "code",
   "execution_count": null,
   "id": "d3f4f10e",
   "metadata": {},
   "outputs": [],
   "source": [
    "rm_stopwords = nlp.add_pipe(\"remove_stopwords\", name=\"rm_stopwords\", last=True)\n",
    "rm_punct = nlp.add_pipe(\"remove_punct\", name=\"rm_punct\", last=True)\n",
    "rm_spaces = nlp.add_pipe(\"remove_spaces\", name=\"rm_spaces\", last=True)\n",
    "get_text = nlp.add_pipe(\"get_text\", name=\"get_text\", last=True)"
   ]
  },
  {
   "cell_type": "code",
   "execution_count": null,
   "id": "6006e84e",
   "metadata": {},
   "outputs": [],
   "source": [
    "df = pd.read_parquet(\"./digital_identity_token_dataset.parquet\", columns=['spotify_id', 'lyrics'])"
   ]
  },
  {
   "cell_type": "code",
   "execution_count": null,
   "id": "d8ec330a",
   "metadata": {
    "scrolled": true
   },
   "outputs": [],
   "source": [
    "df[\"doc\"] = list(nlp.pipe(df[\"lyrics\"]))"
   ]
  },
  {
   "cell_type": "code",
   "execution_count": null,
   "id": "03884a16",
   "metadata": {},
   "outputs": [],
   "source": [
    "dictionary = Dictionary(df[\"doc\"])"
   ]
  },
  {
   "cell_type": "code",
   "execution_count": null,
   "id": "4746dffe",
   "metadata": {},
   "outputs": [],
   "source": [
    "corpus = [dictionary.doc2bow(text) for text in df[\"doc\"]]"
   ]
  },
  {
   "cell_type": "code",
   "execution_count": null,
   "id": "7759633a",
   "metadata": {},
   "outputs": [],
   "source": [
    "lda = LdaModel(corpus=corpus, num_topics=10, id2word=dictionary)"
   ]
  },
  {
   "cell_type": "code",
   "execution_count": null,
   "id": "9cf3cbf8",
   "metadata": {},
   "outputs": [],
   "source": [
    "model_name = \"./ldamodels/lda_text_no_stopwords\""
   ]
  },
  {
   "cell_type": "code",
   "execution_count": null,
   "id": "d0700863",
   "metadata": {},
   "outputs": [],
   "source": [
    "lda.save(model_name)"
   ]
  },
  {
   "cell_type": "code",
   "execution_count": null,
   "id": "56045d0a",
   "metadata": {},
   "outputs": [],
   "source": [
    "lda = LdaModel.load(model_name)\n",
    "dictionary = Dictionary.load(f\"{model_name}.id2word\")"
   ]
  }
 ],
 "metadata": {
  "kernelspec": {
   "display_name": "Python 3",
   "language": "python",
   "name": "python3"
  },
  "language_info": {
   "codemirror_mode": {
    "name": "ipython",
    "version": 3
   },
   "file_extension": ".py",
   "mimetype": "text/x-python",
   "name": "python",
   "nbconvert_exporter": "python",
   "pygments_lexer": "ipython3",
   "version": "3.8.5"
  }
 },
 "nbformat": 4,
 "nbformat_minor": 5
}
