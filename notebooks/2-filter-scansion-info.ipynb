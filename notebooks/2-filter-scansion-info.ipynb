{
 "cells": [
  {
   "cell_type": "markdown",
   "metadata": {},
   "source": [
    "# Import libraries"
   ]
  },
  {
   "cell_type": "code",
   "execution_count": 2,
   "metadata": {},
   "outputs": [],
   "source": [
    "import os\n",
    "import pandas as pd\n",
    "from argparse import Namespace\n",
    "from pathlib import Path\n",
    "import json\n",
    "import ast"
   ]
  },
  {
   "cell_type": "code",
   "execution_count": 3,
   "metadata": {},
   "outputs": [],
   "source": [
    "args = Namespace(\n",
    "    filename= \"rantanplan-rhyme-stress-dataset\",\n",
    "    source_dir = Path(os.path.abspath(os.path.join(\"..\", \"rantanplan-data\", \"plain-lyrics\"))),\n",
    "    save_dir = Path(os.path.abspath(os.path.join(\"..\", \"rantanplan-data\", \"rhyme-stress\"))),\n",
    ")"
   ]
  },
  {
   "cell_type": "markdown",
   "metadata": {},
   "source": [
    "# Helper functions"
   ]
  },
  {
   "cell_type": "code",
   "execution_count": 3,
   "metadata": {},
   "outputs": [],
   "source": [
    "def get_rhyme(scansion):\n",
    "    \"\"\"\n",
    "    Returns a string containing the rhyme pattern from scansion list of lines.\n",
    "    \"\"\"\n",
    "    if scansion:\n",
    "        sc = ast.literal_eval(scansion)\n",
    "        return \"\".join([line[\"rhyme\"] for line in sc])\n",
    "    else:\n",
    "        return None"
   ]
  },
  {
   "cell_type": "code",
   "execution_count": 4,
   "metadata": {},
   "outputs": [],
   "source": [
    "def get_stress(scansion):\n",
    "    \"\"\"\n",
    "    Returns a string containing the rhyme pattern from scansion list of lines.\n",
    "    \"\"\"\n",
    "    if scansion:\n",
    "        sc = ast.literal_eval(scansion)\n",
    "        return [line[\"rhythm\"]['stress'] for line in sc]\n",
    "    else:\n",
    "        return None"
   ]
  },
  {
   "cell_type": "markdown",
   "metadata": {},
   "source": [
    "# Read all files in `source_dir`, extract rhyme and stress and save to a file"
   ]
  },
  {
   "cell_type": "code",
   "execution_count": 5,
   "metadata": {},
   "outputs": [
    {
     "name": "stdout",
     "output_type": "stream",
     "text": [
      "CPU times: user 1h 42min 13s, sys: 33.9 s, total: 1h 42min 47s\n",
      "Wall time: 1h 42min 52s\n"
     ]
    }
   ],
   "source": [
    "%%time\n",
    "file_list = []\n",
    "for path in args.source_dir.glob(\"*.parquet\"):\n",
    "    df = pd.read_parquet(path)\n",
    "    df['rhyme'] = [get_rhyme(sc) for sc in df['scansion']]\n",
    "    df['stress'] = [get_stress(sc) for sc in df['scansion']]\n",
    "    file_list.append(df[[\"author\", \"title\", \"text\", \"id\", \"rhyme\", \"stress\"]])\n",
    "total = pd.concat(file_list)"
   ]
  },
  {
   "cell_type": "code",
   "execution_count": 16,
   "metadata": {},
   "outputs": [],
   "source": [
    "total.sort_values(by=['id'], inplace=True)"
   ]
  },
  {
   "cell_type": "code",
   "execution_count": 18,
   "metadata": {},
   "outputs": [],
   "source": [
    "total.to_parquet(args.save_dir / f\"{args.filename}.parquet\",compression=\"gzip\")"
   ]
  },
  {
   "cell_type": "code",
   "execution_count": 19,
   "metadata": {},
   "outputs": [
    {
     "data": {
      "text/html": [
       "<div>\n",
       "<style scoped>\n",
       "    .dataframe tbody tr th:only-of-type {\n",
       "        vertical-align: middle;\n",
       "    }\n",
       "\n",
       "    .dataframe tbody tr th {\n",
       "        vertical-align: top;\n",
       "    }\n",
       "\n",
       "    .dataframe thead th {\n",
       "        text-align: right;\n",
       "    }\n",
       "</style>\n",
       "<table border=\"1\" class=\"dataframe\">\n",
       "  <thead>\n",
       "    <tr style=\"text-align: right;\">\n",
       "      <th></th>\n",
       "      <th>author</th>\n",
       "      <th>title</th>\n",
       "      <th>text</th>\n",
       "      <th>id</th>\n",
       "      <th>rhyme</th>\n",
       "      <th>stress</th>\n",
       "    </tr>\n",
       "  </thead>\n",
       "  <tbody>\n",
       "    <tr>\n",
       "      <th>0</th>\n",
       "      <td>Los Chunguitos</td>\n",
       "      <td>Dame Veneno</td>\n",
       "      <td>Dame veneno q quiero morir dame veneno\\nq ante...</td>\n",
       "      <td>0</td>\n",
       "      <td>abcabc-d-dee--fghfgh-i-ijk-kjlmjlm</td>\n",
       "      <td>[+--+--+--++--+-, -+--+--+-, --+-+-+--+----+-,...</td>\n",
       "    </tr>\n",
       "    <tr>\n",
       "      <th>1</th>\n",
       "      <td>Los Chunguitos</td>\n",
       "      <td>Cuando La Veo Pasar</td>\n",
       "      <td>Olee, vamos con ella:\\nTodos los días paso por...</td>\n",
       "      <td>1</td>\n",
       "      <td>-a-a-b-bccc-ddeefff-</td>\n",
       "      <td>[-++--+-, +--++---+-, -+--+-, -+-+-+--+-, --+-...</td>\n",
       "    </tr>\n",
       "    <tr>\n",
       "      <th>2</th>\n",
       "      <td>Alianza</td>\n",
       "      <td>Voy De Frente</td>\n",
       "      <td>Me propuse nadar contra la corriente.\\n(Jamás ...</td>\n",
       "      <td>2</td>\n",
       "      <td>abcbacb---bd-edededededededed-</td>\n",
       "      <td>[--+--+----+-, -+-+--+-, +-+--++--+-, ---+--+-...</td>\n",
       "    </tr>\n",
       "    <tr>\n",
       "      <th>3</th>\n",
       "      <td>Alianza</td>\n",
       "      <td>Ven A Calmar Mi Dolor</td>\n",
       "      <td>¡Hey! ¡Hey!\\n¡Hey! ¡Hey!\\n¡Hey! ¡Hey!\\nSi vien...</td>\n",
       "      <td>3</td>\n",
       "      <td>aaa-a-abbababaabbbaabbbaa-</td>\n",
       "      <td>[+-, +-, +-, -+--+-, +++--+-, -+-++-, -+-+++-,...</td>\n",
       "    </tr>\n",
       "    <tr>\n",
       "      <th>4</th>\n",
       "      <td>Alianza</td>\n",
       "      <td>Vení A Escuchar Rock &amp; Roll</td>\n",
       "      <td>Todo ya te pudrió,\\nel diario de ayer ya te ca...</td>\n",
       "      <td>4</td>\n",
       "      <td>aaabbabbaaaa-cccccccddddddddedeeddddddddd-</td>\n",
       "      <td>[+-+--+-, -+--++--+-, -+----+-, -+--+-+++-, -+...</td>\n",
       "    </tr>\n",
       "    <tr>\n",
       "      <th>5</th>\n",
       "      <td>Alianza</td>\n",
       "      <td>Ultimo Round</td>\n",
       "      <td>Nunca esperes la solución,\\ntienes que tomar t...</td>\n",
       "      <td>5</td>\n",
       "      <td>aaaa-aabbbb-cbcbddcbcbcbcb</td>\n",
       "      <td>[+-+----+-, +---+-+---+-, --+-+--+-, +--++-+--...</td>\n",
       "    </tr>\n",
       "    <tr>\n",
       "      <th>6</th>\n",
       "      <td>Alianza</td>\n",
       "      <td>Tribus Del Sol</td>\n",
       "      <td>Colonizar y conquistar,\\nfue la misión, orden ...</td>\n",
       "      <td>6</td>\n",
       "      <td>aab---b-ccdccdddd</td>\n",
       "      <td>[---+---+-, +--++-+-, ---++-+---+-, -+-+---+-+...</td>\n",
       "    </tr>\n",
       "    <tr>\n",
       "      <th>7</th>\n",
       "      <td>Alianza</td>\n",
       "      <td>Pasión Prohibida</td>\n",
       "      <td>No me mires así,\\nno es fácil amar sin sufrir....</td>\n",
       "      <td>7</td>\n",
       "      <td>aabbc-cb-bdddee-e-eef-fg-ghhhii-hhhjj-</td>\n",
       "      <td>[+-+--+-, ++--+--+-, +--+-+-, +-+--+-++-, +--+...</td>\n",
       "    </tr>\n",
       "    <tr>\n",
       "      <th>8</th>\n",
       "      <td>Alianza</td>\n",
       "      <td>Sueño Real</td>\n",
       "      <td>No importa el tiempo,\\nmucho menos el lugar,\\n...</td>\n",
       "      <td>8</td>\n",
       "      <td>-ababc-c-ddd-ddd-e-e-f-f-fff-ffffff-fff-</td>\n",
       "      <td>[++-+-, +-+---+-, ---+-, --+---+-, ---+-, --+-...</td>\n",
       "    </tr>\n",
       "    <tr>\n",
       "      <th>9</th>\n",
       "      <td>Alianza</td>\n",
       "      <td>Sonrisa Fácil</td>\n",
       "      <td>Harto de aguantar\\nuna historia más.\\nHarto de...</td>\n",
       "      <td>9</td>\n",
       "      <td>aaaaaabb-bccccccccccded-effgeg-egeg-e</td>\n",
       "      <td>[+---+-, +-+-+-, +---+-, ----+-, -+-+------+-,...</td>\n",
       "    </tr>\n",
       "  </tbody>\n",
       "</table>\n",
       "</div>"
      ],
      "text/plain": [
       "           author                        title  \\\n",
       "0  Los Chunguitos                  Dame Veneno   \n",
       "1  Los Chunguitos          Cuando La Veo Pasar   \n",
       "2         Alianza                Voy De Frente   \n",
       "3         Alianza        Ven A Calmar Mi Dolor   \n",
       "4         Alianza  Vení A Escuchar Rock & Roll   \n",
       "5         Alianza                 Ultimo Round   \n",
       "6         Alianza               Tribus Del Sol   \n",
       "7         Alianza             Pasión Prohibida   \n",
       "8         Alianza                   Sueño Real   \n",
       "9         Alianza                Sonrisa Fácil   \n",
       "\n",
       "                                                text  id  \\\n",
       "0  Dame veneno q quiero morir dame veneno\\nq ante...   0   \n",
       "1  Olee, vamos con ella:\\nTodos los días paso por...   1   \n",
       "2  Me propuse nadar contra la corriente.\\n(Jamás ...   2   \n",
       "3  ¡Hey! ¡Hey!\\n¡Hey! ¡Hey!\\n¡Hey! ¡Hey!\\nSi vien...   3   \n",
       "4  Todo ya te pudrió,\\nel diario de ayer ya te ca...   4   \n",
       "5  Nunca esperes la solución,\\ntienes que tomar t...   5   \n",
       "6  Colonizar y conquistar,\\nfue la misión, orden ...   6   \n",
       "7  No me mires así,\\nno es fácil amar sin sufrir....   7   \n",
       "8  No importa el tiempo,\\nmucho menos el lugar,\\n...   8   \n",
       "9  Harto de aguantar\\nuna historia más.\\nHarto de...   9   \n",
       "\n",
       "                                        rhyme  \\\n",
       "0          abcabc-d-dee--fghfgh-i-ijk-kjlmjlm   \n",
       "1                        -a-a-b-bccc-ddeefff-   \n",
       "2              abcbacb---bd-edededededededed-   \n",
       "3                  aaa-a-abbababaabbbaabbbaa-   \n",
       "4  aaabbabbaaaa-cccccccddddddddedeeddddddddd-   \n",
       "5                  aaaa-aabbbb-cbcbddcbcbcbcb   \n",
       "6                           aab---b-ccdccdddd   \n",
       "7      aabbc-cb-bdddee-e-eef-fg-ghhhii-hhhjj-   \n",
       "8    -ababc-c-ddd-ddd-e-e-f-f-fff-ffffff-fff-   \n",
       "9       aaaaaabb-bccccccccccded-effgeg-egeg-e   \n",
       "\n",
       "                                              stress  \n",
       "0  [+--+--+--++--+-, -+--+--+-, --+-+-+--+----+-,...  \n",
       "1  [-++--+-, +--++---+-, -+--+-, -+-+-+--+-, --+-...  \n",
       "2  [--+--+----+-, -+-+--+-, +-+--++--+-, ---+--+-...  \n",
       "3  [+-, +-, +-, -+--+-, +++--+-, -+-++-, -+-+++-,...  \n",
       "4  [+-+--+-, -+--++--+-, -+----+-, -+--+-+++-, -+...  \n",
       "5  [+-+----+-, +---+-+---+-, --+-+--+-, +--++-+--...  \n",
       "6  [---+---+-, +--++-+-, ---++-+---+-, -+-+---+-+...  \n",
       "7  [+-+--+-, ++--+--+-, +--+-+-, +-+--+-++-, +--+...  \n",
       "8  [++-+-, +-+---+-, ---+-, --+---+-, ---+-, --+-...  \n",
       "9  [+---+-, +-+-+-, +---+-, ----+-, -+-+------+-,...  "
      ]
     },
     "execution_count": 19,
     "metadata": {},
     "output_type": "execute_result"
    }
   ],
   "source": [
    "total.head(10)"
   ]
  }
 ],
 "metadata": {
  "kernelspec": {
   "display_name": "Python 3",
   "language": "python",
   "name": "python3"
  },
  "language_info": {
   "codemirror_mode": {
    "name": "ipython",
    "version": 3
   },
   "file_extension": ".py",
   "mimetype": "text/x-python",
   "name": "python",
   "nbconvert_exporter": "python",
   "pygments_lexer": "ipython3",
   "version": "3.8.5"
  }
 },
 "nbformat": 4,
 "nbformat_minor": 4
}
