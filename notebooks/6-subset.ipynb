{
 "cells": [
  {
   "cell_type": "code",
   "execution_count": 9,
   "id": "91155777",
   "metadata": {},
   "outputs": [],
   "source": [
    "import pandas as pd\n",
    "import re"
   ]
  },
  {
   "cell_type": "code",
   "execution_count": 43,
   "id": "6f585e5e",
   "metadata": {},
   "outputs": [],
   "source": [
    "stopwords = {'estribillo','x2','x3','x4','x5', 'coro-estribillo','(x2)','(x3)','(x4)', '()', '(repite estribillo 3 veces)'}"
   ]
  },
  {
   "cell_type": "code",
   "execution_count": 44,
   "id": "2598c64a",
   "metadata": {},
   "outputs": [],
   "source": [
    "REGEX_PAT = re.compile(r\"\\b(?:\" + (\"|\").join(stopwords) + \")\\\\b\", re.IGNORECASE)"
   ]
  },
  {
   "cell_type": "code",
   "execution_count": 45,
   "id": "2a2ccb2a",
   "metadata": {},
   "outputs": [],
   "source": [
    "df = pd.read_parquet(\"./digital_identity_token_dataset.parquet\", columns=['spotify_id', 'lyrics'])"
   ]
  },
  {
   "cell_type": "code",
   "execution_count": 46,
   "id": "97e67072",
   "metadata": {},
   "outputs": [],
   "source": [
    "subset = df.sample(5000, random_state=5)[[\"spotify_id\", \"lyrics\"]]"
   ]
  },
  {
   "cell_type": "code",
   "execution_count": 50,
   "id": "c93f3224",
   "metadata": {},
   "outputs": [
    {
     "data": {
      "text/html": [
       "<div>\n",
       "<style scoped>\n",
       "    .dataframe tbody tr th:only-of-type {\n",
       "        vertical-align: middle;\n",
       "    }\n",
       "\n",
       "    .dataframe tbody tr th {\n",
       "        vertical-align: top;\n",
       "    }\n",
       "\n",
       "    .dataframe thead th {\n",
       "        text-align: right;\n",
       "    }\n",
       "</style>\n",
       "<table border=\"1\" class=\"dataframe\">\n",
       "  <thead>\n",
       "    <tr style=\"text-align: right;\">\n",
       "      <th></th>\n",
       "      <th>spotify_id</th>\n",
       "      <th>lyrics</th>\n",
       "    </tr>\n",
       "  </thead>\n",
       "  <tbody>\n",
       "  </tbody>\n",
       "</table>\n",
       "</div>"
      ],
      "text/plain": [
       "Empty DataFrame\n",
       "Columns: [spotify_id, lyrics]\n",
       "Index: []"
      ]
     },
     "execution_count": 50,
     "metadata": {},
     "output_type": "execute_result"
    }
   ],
   "source": [
    "subset.loc[subset[\"lyrics\"].str.contains(\"estribillo\")]"
   ]
  },
  {
   "cell_type": "code",
   "execution_count": 48,
   "id": "6a71f0ee",
   "metadata": {},
   "outputs": [],
   "source": [
    "subset[\"lyrics\"] = subset[\"lyrics\"].str.replace(REGEX_PAT, \"\", regex=True)"
   ]
  },
  {
   "cell_type": "code",
   "execution_count": 49,
   "id": "3e27c341",
   "metadata": {},
   "outputs": [
    {
     "data": {
      "text/html": [
       "<div>\n",
       "<style scoped>\n",
       "    .dataframe tbody tr th:only-of-type {\n",
       "        vertical-align: middle;\n",
       "    }\n",
       "\n",
       "    .dataframe tbody tr th {\n",
       "        vertical-align: top;\n",
       "    }\n",
       "\n",
       "    .dataframe thead th {\n",
       "        text-align: right;\n",
       "    }\n",
       "</style>\n",
       "<table border=\"1\" class=\"dataframe\">\n",
       "  <thead>\n",
       "    <tr style=\"text-align: right;\">\n",
       "      <th></th>\n",
       "      <th>spotify_id</th>\n",
       "      <th>lyrics</th>\n",
       "    </tr>\n",
       "  </thead>\n",
       "  <tbody>\n",
       "  </tbody>\n",
       "</table>\n",
       "</div>"
      ],
      "text/plain": [
       "Empty DataFrame\n",
       "Columns: [spotify_id, lyrics]\n",
       "Index: []"
      ]
     },
     "execution_count": 49,
     "metadata": {},
     "output_type": "execute_result"
    }
   ],
   "source": [
    "subset.loc[subset[\"lyrics\"].str.contains(\"x3\")]"
   ]
  },
  {
   "cell_type": "code",
   "execution_count": 52,
   "id": "18a3a16d",
   "metadata": {},
   "outputs": [],
   "source": [
    "subset.to_csv(\"subset.csv\", index=False)"
   ]
  },
  {
   "cell_type": "code",
   "execution_count": null,
   "id": "f6404484",
   "metadata": {},
   "outputs": [],
   "source": []
  }
 ],
 "metadata": {
  "kernelspec": {
   "display_name": "Python 3",
   "language": "python",
   "name": "python3"
  },
  "language_info": {
   "codemirror_mode": {
    "name": "ipython",
    "version": 3
   },
   "file_extension": ".py",
   "mimetype": "text/x-python",
   "name": "python",
   "nbconvert_exporter": "python",
   "pygments_lexer": "ipython3",
   "version": "3.8.5"
  }
 },
 "nbformat": 4,
 "nbformat_minor": 5
}
